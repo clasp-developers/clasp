{
 "cells": [
  {
   "cell_type": "markdown",
   "metadata": {},
   "source": [
    "# Cando hello-world notebook\n",
    "\n",
    "Cando combines a compiled programming language (Common Lisp) with fast chemistry code implemented in C++/C/Fortran.\n",
    "\n",
    "Click on an \"In\" box and hit Shift-Enter to evaluate each input cell."
   ]
  },
  {
   "cell_type": "code",
   "execution_count": 2,
   "metadata": {},
   "outputs": [
    {
     "name": "stdout",
     "output_type": "stream",
     "text": [
      "\n",
      "\"Hello world\" "
     ]
    },
    {
     "data": {
      "text/plain": [
       "\"Hello world\""
      ]
     },
     "execution_count": 2,
     "metadata": {},
     "output_type": "execute_result"
    }
   ],
   "source": [
    "(print \"Hello world\")"
   ]
  },
  {
   "cell_type": "code",
   "execution_count": 3,
   "metadata": {},
   "outputs": [
    {
     "data": {
      "text/plain": [
       "FIBN"
      ]
     },
     "execution_count": 3,
     "metadata": {},
     "output_type": "execute_result"
    }
   ],
   "source": [
    "(compile 'fibn \n",
    "         '(lambda (reps num)\n",
    "              (declare (optimize speed (safety 0) (debug 0))\n",
    "                   (fixnum reps num))\n",
    "              (let ((z 0))\n",
    "                (declare (fixnum z))\n",
    "                (dotimes (r reps)\n",
    "                  (declare (fixnum r))\n",
    "                    (let ((p1 1)\n",
    "                          (p2 1))\n",
    "                        (declare (fixnum p1 p2))\n",
    "                        (dotimes (i (- num 2))\n",
    "                        (declare (fixnum i))\n",
    "                        (setf z (+ p1 p2)\n",
    "                              p2 p1\n",
    "                              p1 z))))\n",
    "            z)))"
   ]
  },
  {
   "cell_type": "markdown",
   "metadata": {},
   "source": [
    "#### Evaluate the 78th Fibonacci number 1,000,000 times."
   ]
  },
  {
   "cell_type": "code",
   "execution_count": 5,
   "metadata": {},
   "outputs": [
    {
     "data": {
      "text/plain": [
       "8944394323791464"
      ]
     },
     "execution_count": 5,
     "metadata": {},
     "output_type": "execute_result"
    }
   ],
   "source": [
    "(fibn 1000000 78)"
   ]
  }
 ],
 "metadata": {
  "kernelspec": {
   "display_name": "Cando",
   "language": "lisp",
   "name": "lisp"
  },
  "language_info": {
   "codemirror_mode": "text/x-common-lisp",
   "mimetype": "text/x-common-lisp",
   "name": "common-lisp",
   "pygments_lexer": "common-lisp",
   "version": "X3J13"
  }
 },
 "nbformat": 4,
 "nbformat_minor": 2
}
