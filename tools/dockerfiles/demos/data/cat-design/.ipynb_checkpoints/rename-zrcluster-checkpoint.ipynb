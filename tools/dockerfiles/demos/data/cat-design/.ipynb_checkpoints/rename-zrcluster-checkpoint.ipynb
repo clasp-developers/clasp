{
 "cells": [
  {
   "cell_type": "code",
   "execution_count": 1,
   "metadata": {},
   "outputs": [
    {
     "data": {
      "text/plain": [
       "*ZR*"
      ]
     },
     "execution_count": 1,
     "metadata": {},
     "output_type": "execute_result"
    }
   ],
   "source": [
    "(defparameter *zr* (chem:load-mol2 \"zrcluster.mol2\"))"
   ]
  },
  {
   "cell_type": "code",
   "execution_count": 2,
   "metadata": {},
   "outputs": [
    {
     "data": {
      "text/plain": [
       "150"
      ]
     },
     "execution_count": 2,
     "metadata": {},
     "output_type": "execute_result"
    }
   ],
   "source": [
    "(chem:number-of-atoms *zr*)"
   ]
  },
  {
   "cell_type": "code",
   "execution_count": 3,
   "metadata": {},
   "outputs": [
    {
     "data": {
      "text/plain": [
       "*TEMP*"
      ]
     },
     "execution_count": 3,
     "metadata": {},
     "output_type": "execute_result"
    }
   ],
   "source": [
    "(defparameter *temp*\n",
    "    (chem:map-atoms 'list \n",
    "                (lambda (a) (when (member (chem:get-name a) \n",
    "                                          '(:c50 :c49 :c55 :c51 :c56 :c54 :c53 :c52)) a))\n",
    "                *zr*))"
   ]
  },
  {
   "cell_type": "code",
   "execution_count": 4,
   "metadata": {},
   "outputs": [
    {
     "data": {
      "text/plain": [
       "*CARBS*"
      ]
     },
     "execution_count": 4,
     "metadata": {},
     "output_type": "execute_result"
    }
   ],
   "source": [
    "(defparameter *carbs* (loop for x in *temp*\n",
    "                            when x\n",
    "                                collect x))"
   ]
  },
  {
   "cell_type": "code",
   "execution_count": 5,
   "metadata": {},
   "outputs": [
    {
     "data": {
      "text/plain": [
       "(#<ATOM :C49/:C> #<ATOM :C50/:C> #<ATOM :C51/:C> #<ATOM :C52/:C>\n",
       " #<ATOM :C53/:C> #<ATOM :C54/:C> #<ATOM :C55/:C> #<ATOM :C56/:C>)"
      ]
     },
     "execution_count": 5,
     "metadata": {},
     "output_type": "execute_result"
    }
   ],
   "source": [
    "*carbs*"
   ]
  },
  {
   "cell_type": "code",
   "execution_count": 6,
   "metadata": {},
   "outputs": [
    {
     "data": {
      "text/plain": [
       "*SORTED-CARBS*"
      ]
     },
     "execution_count": 6,
     "metadata": {},
     "output_type": "execute_result"
    }
   ],
   "source": [
    "(defparameter *sorted-carbs*\n",
    "    (list (second *carbs*)\n",
    "          (first *carbs*)\n",
    "          (seventh *carbs*)\n",
    "          (third *carbs*)\n",
    "          (eighth *carbs*)\n",
    "          (sixth *carbs*)\n",
    "          (fifth *carbs*)\n",
    "          (fourth *carbs*)))"
   ]
  },
  {
   "cell_type": "code",
   "execution_count": 7,
   "metadata": {},
   "outputs": [
    {
     "data": {
      "text/plain": [
       "NIL"
      ]
     },
     "execution_count": 7,
     "metadata": {},
     "output_type": "execute_result"
    }
   ],
   "source": [
    "(let ((idx 100))\n",
    "      (chem:map-atoms nil\n",
    "                (lambda (a) \n",
    "                        (when (eql (elt (string (chem:get-name a)) 0) #\\C) \n",
    "                            (chem:set-name a (intern (format nil \"C_~a\" (incf idx)) :keyword))))\n",
    "                *zr*))"
   ]
  },
  {
   "cell_type": "code",
   "execution_count": 8,
   "metadata": {},
   "outputs": [
    {
     "name": "stdout",
     "output_type": "stream",
     "text": [
      "\n",
      "#<ATOM :C_1/:C> \n",
      "#<ATOM :C_2/:C> \n",
      "#<ATOM :C_3/:C> \n",
      "#<ATOM :C_4/:C> \n",
      "#<ATOM :C_5/:C> \n",
      "#<ATOM :C_6/:C> \n",
      "#<ATOM :C_7/:C> \n",
      "#<ATOM :C_8/:C> "
     ]
    },
    {
     "data": {
      "text/plain": [
       "(#<ATOM :C_1/:C> #<ATOM :C_2/:C> #<ATOM :C_3/:C> #<ATOM :C_4/:C>\n",
       " #<ATOM :C_5/:C> #<ATOM :C_6/:C> #<ATOM :C_7/:C> #<ATOM :C_8/:C>)"
      ]
     },
     "execution_count": 8,
     "metadata": {},
     "output_type": "execute_result"
    }
   ],
   "source": [
    "(let ((idx 0))\n",
    "      (mapcar\n",
    "                (lambda (a) \n",
    "                        (when (eql (elt (string (chem:get-name a)) 0) #\\C) \n",
    "                            (chem:set-name a (intern (format nil \"C_~a\" (incf idx)) :keyword)) \n",
    "                            (print a)))\n",
    "                *sorted-carbs*))"
   ]
  },
  {
   "cell_type": "code",
   "execution_count": 9,
   "metadata": {},
   "outputs": [
    {
     "data": {
      "text/plain": [
       "NIL"
      ]
     },
     "execution_count": 9,
     "metadata": {},
     "output_type": "execute_result"
    }
   ],
   "source": [
    "(chem:save-mol2 *zr* \"renamed-zrcluster.mol2\" t)"
   ]
  },
  {
   "cell_type": "code",
   "execution_count": 10,
   "metadata": {},
   "outputs": [
    {
     "data": {
      "text/plain": [
       "T"
      ]
     },
     "execution_count": 10,
     "metadata": {},
     "output_type": "execute_result"
    }
   ],
   "source": [
    "(asdf:load-asd \"/home/app/quicklisp/local-projects/cl-jupyter/nglview/nglview.asd\")"
   ]
  },
  {
   "cell_type": "code",
   "execution_count": 11,
   "metadata": {},
   "outputs": [
    {
     "data": {
      "text/plain": [
       "T"
      ]
     },
     "execution_count": 11,
     "metadata": {},
     "output_type": "execute_result"
    }
   ],
   "source": [
    "(asdf:load-system :nglview)"
   ]
  },
  {
   "cell_type": "code",
   "execution_count": 12,
   "metadata": {},
   "outputs": [
    {
     "name": "stdout",
     "output_type": "stream",
     "text": [
      "Saving matter to /tmp/structure.mol2\n"
     ]
    },
    {
     "name": "stderr",
     "output_type": "stream",
     "text": [
      "SIMPLE-WARNING: \n",
      "What do we do about add_repr_method_shortcut\n",
      "SIMPLE-WARNING: \n",
      "Do something for %update-component-auto-completion\n",
      "SIMPLE-WARNING: \n",
      "Set the Trajectoryplayer\n"
     ]
    }
   ],
   "source": [
    "(nglv::show-aggregate *zr*)"
   ]
  },
  {
   "cell_type": "code",
   "execution_count": null,
   "metadata": {
    "collapsed": true
   },
   "outputs": [],
   "source": [
    " "
   ]
  }
 ],
 "metadata": {
  "kernelspec": {
   "display_name": "Cando",
   "language": "lisp",
   "name": "lisp"
  },
  "language_info": {
   "codemirror_mode": "text/x-common-lisp",
   "mimetype": "text/x-common-lisp",
   "name": "common-lisp",
   "pygments_lexer": "common-lisp",
   "version": "X3J13"
  }
 },
 "nbformat": 4,
 "nbformat_minor": 2
}
